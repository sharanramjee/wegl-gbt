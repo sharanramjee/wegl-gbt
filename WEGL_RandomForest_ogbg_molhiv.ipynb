{
 "cells": [
  {
   "cell_type": "code",
   "execution_count": 2,
   "metadata": {},
   "outputs": [
    {
     "name": "stdout",
     "output_type": "stream",
     "text": [
      "Requirement already satisfied: ogb in c:\\users\\sharan\\anaconda3\\lib\\site-packages (1.2.4)\n",
      "Requirement already satisfied: urllib3>=1.24.0 in c:\\users\\sharan\\anaconda3\\lib\\site-packages (from ogb) (1.24.2)\n",
      "Requirement already satisfied: numpy>=1.16.0 in c:\\users\\sharan\\anaconda3\\lib\\site-packages (from ogb) (1.20.0)\n",
      "Requirement already satisfied: torch>=1.2.0 in c:\\users\\sharan\\anaconda3\\lib\\site-packages (from ogb) (1.7.1+cu101)\n",
      "Requirement already satisfied: outdated>=0.2.0 in c:\\users\\sharan\\anaconda3\\lib\\site-packages (from ogb) (0.2.0)\n",
      "Requirement already satisfied: tqdm>=4.29.0 in c:\\users\\sharan\\anaconda3\\lib\\site-packages (from ogb) (4.56.0)\n",
      "Requirement already satisfied: scikit-learn>=0.20.0 in c:\\users\\sharan\\anaconda3\\lib\\site-packages (from ogb) (0.24.0)\n",
      "Requirement already satisfied: six>=1.12.0 in c:\\users\\sharan\\anaconda3\\lib\\site-packages (from ogb) (1.12.0)\n",
      "Requirement already satisfied: pandas>=0.24.0 in c:\\users\\sharan\\anaconda3\\lib\\site-packages (from ogb) (0.25.0)\n",
      "Requirement already satisfied: typing-extensions in c:\\users\\sharan\\anaconda3\\lib\\site-packages (from torch>=1.2.0->ogb) (3.7.4.2)\n",
      "Requirement already satisfied: requests in c:\\users\\sharan\\anaconda3\\lib\\site-packages (from outdated>=0.2.0->ogb) (2.22.0)\n",
      "Requirement already satisfied: littleutils in c:\\users\\sharan\\anaconda3\\lib\\site-packages (from outdated>=0.2.0->ogb) (0.2.2)\n",
      "Requirement already satisfied: joblib>=0.11 in c:\\users\\sharan\\anaconda3\\lib\\site-packages (from scikit-learn>=0.20.0->ogb) (0.15.1)\n",
      "Requirement already satisfied: threadpoolctl>=2.0.0 in c:\\users\\sharan\\anaconda3\\lib\\site-packages (from scikit-learn>=0.20.0->ogb) (2.1.0)\n",
      "Requirement already satisfied: scipy>=0.19.1 in c:\\users\\sharan\\anaconda3\\lib\\site-packages (from scikit-learn>=0.20.0->ogb) (1.4.1)\n",
      "Requirement already satisfied: pytz>=2017.2 in c:\\users\\sharan\\anaconda3\\lib\\site-packages (from pandas>=0.24.0->ogb) (2018.4)\n",
      "Requirement already satisfied: python-dateutil>=2.6.1 in c:\\users\\sharan\\anaconda3\\lib\\site-packages (from pandas>=0.24.0->ogb) (2.8.1)\n",
      "Requirement already satisfied: idna<2.9,>=2.5 in c:\\users\\sharan\\anaconda3\\lib\\site-packages (from requests->outdated>=0.2.0->ogb) (2.8)\n",
      "Requirement already satisfied: certifi>=2017.4.17 in c:\\users\\sharan\\anaconda3\\lib\\site-packages (from requests->outdated>=0.2.0->ogb) (2020.4.5.1)\n",
      "Requirement already satisfied: chardet<3.1.0,>=3.0.2 in c:\\users\\sharan\\anaconda3\\lib\\site-packages (from requests->outdated>=0.2.0->ogb) (3.0.4)\n"
     ]
    }
   ],
   "source": [
    "# Install (some of the) required packages\n",
    "\n",
    "!pip install -q torch-scatter -f https://pytorch-geometric.com/whl/torch-1.7.0+cu101.html\n",
    "!pip install -q torch-sparse -f https://pytorch-geometric.com/whl/torch-1.7.0+cu101.html\n",
    "!pip install -q torch-geometric\n",
    "!pip install ogb\n",
    "# !pip install POT\n",
    "# !pip install prettytable\n",
    "# !pip install tqdm"
   ]
  },
  {
   "cell_type": "code",
   "execution_count": 5,
   "metadata": {},
   "outputs": [
    {
     "ename": "ImportError",
     "evalue": "cannot import name 'PygGraphPropPredDataset' from 'ogb.graphproppred' (C:\\Users\\Sharan\\Anaconda3\\lib\\site-packages\\ogb\\graphproppred\\__init__.py)",
     "output_type": "error",
     "traceback": [
      "\u001b[1;31m---------------------------------------------------------------------------\u001b[0m",
      "\u001b[1;31mImportError\u001b[0m                               Traceback (most recent call last)",
      "\u001b[1;32m<ipython-input-5-5445a2a07411>\u001b[0m in \u001b[0;36m<module>\u001b[1;34m\u001b[0m\n\u001b[0;32m      2\u001b[0m \u001b[1;33m\u001b[0m\u001b[0m\n\u001b[0;32m      3\u001b[0m \u001b[1;31m# import ogb; print('ogb version {}'.format(ogb.__version__)) # make sure the version is =>1.1.1.\u001b[0m\u001b[1;33m\u001b[0m\u001b[1;33m\u001b[0m\u001b[1;33m\u001b[0m\u001b[0m\n\u001b[1;32m----> 4\u001b[1;33m \u001b[1;32mfrom\u001b[0m \u001b[0mogb\u001b[0m\u001b[1;33m.\u001b[0m\u001b[0mgraphproppred\u001b[0m \u001b[1;32mimport\u001b[0m \u001b[0mPygGraphPropPredDataset\u001b[0m\u001b[1;33m\u001b[0m\u001b[1;33m\u001b[0m\u001b[0m\n\u001b[0m\u001b[0;32m      5\u001b[0m \u001b[1;31m# from WEGL.WEGL import WEGL\u001b[0m\u001b[1;33m\u001b[0m\u001b[1;33m\u001b[0m\u001b[1;33m\u001b[0m\u001b[0m\n",
      "\u001b[1;31mImportError\u001b[0m: cannot import name 'PygGraphPropPredDataset' from 'ogb.graphproppred' (C:\\Users\\Sharan\\Anaconda3\\lib\\site-packages\\ogb\\graphproppred\\__init__.py)"
     ]
    }
   ],
   "source": [
    "# Import required modules\n",
    "\n",
    "# import ogb; print('ogb version {}'.format(ogb.__version__)) # make sure the version is =>1.1.1.\n",
    "from ogb.graphproppred import PygGraphPropPredDataset\n",
    "# from WEGL.WEGL import WEGL"
   ]
  },
  {
   "cell_type": "code",
   "execution_count": null,
   "metadata": {},
   "outputs": [],
   "source": [
    "# Set the random seed\n",
    "\n",
    "random_seed = 55"
   ]
  },
  {
   "cell_type": "code",
   "execution_count": null,
   "metadata": {},
   "outputs": [],
   "source": [
    "# Load the dataset\n",
    "\n",
    "dataset = PygGraphPropPredDataset(name=\"ogbg-molhiv\")\n",
    "\n",
    "print('# of graphs = {0}\\n# of classes = {1}\\n# of node features = {2}\\n# of edge features = {3}'.\\\n",
    "         format(len(dataset), dataset.num_classes, dataset.num_node_features, dataset.num_edge_features))\n",
    "\n",
    "if isinstance(dataset, PygGraphPropPredDataset): # OGB datasets\n",
    "    print('# of tasks = {}'.format(dataset.num_tasks))"
   ]
  },
  {
   "cell_type": "code",
   "execution_count": null,
   "metadata": {},
   "outputs": [],
   "source": [
    "# Specify the parameters\n",
    "\n",
    "# num_hidden_layers = range(3, 9)\n",
    "num_hidden_layers = [4]\n",
    "\n",
    "# node_embedding_sizes = [100, 300, 500]\n",
    "node_embedding_sizes = [300]\n",
    "\n",
    "# final_node_embeddings = ['concat', 'avg', 'final']\n",
    "final_node_embeddings = ['final']\n",
    "\n",
    "num_pca_components = 20\n",
    "num_experiments = 10\n",
    "classifiers = ['RF']\n",
    "device = 'cpu'"
   ]
  },
  {
   "cell_type": "code",
   "execution_count": 6,
   "metadata": {
    "scrolled": false
   },
   "outputs": [
    {
     "name": "stdout",
     "output_type": "stream",
     "text": [
      "****************************************************************************************************\n",
      "# diffusion layers = 4, node embedding size = 300, node embedding mode: final\n",
      "\n",
      "Now diffusing the train data ...\n"
     ]
    },
    {
     "data": {
      "application/vnd.jupyter.widget-view+json": {
       "model_id": "a1fd7d635d564cc089a673db9172208b",
       "version_major": 2,
       "version_minor": 0
      },
      "text/plain": [
       "HBox(children=(FloatProgress(value=0.0, max=1029.0), HTML(value='')))"
      ]
     },
     "metadata": {},
     "output_type": "display_data"
    },
    {
     "name": "stdout",
     "output_type": "stream",
     "text": [
      "\n",
      "Now diffusing the valid data ...\n"
     ]
    },
    {
     "data": {
      "application/vnd.jupyter.widget-view+json": {
       "model_id": "516c1e2e03714e1a865f2f03de70e917",
       "version_major": 2,
       "version_minor": 0
      },
      "text/plain": [
       "HBox(children=(FloatProgress(value=0.0, max=129.0), HTML(value='')))"
      ]
     },
     "metadata": {},
     "output_type": "display_data"
    },
    {
     "name": "stdout",
     "output_type": "stream",
     "text": [
      "\n",
      "Now diffusing the test data ...\n"
     ]
    },
    {
     "data": {
      "application/vnd.jupyter.widget-view+json": {
       "model_id": "7066e2eda2064272a6141302d1ce983d",
       "version_major": 2,
       "version_minor": 0
      },
      "text/plain": [
       "HBox(children=(FloatProgress(value=0.0, max=129.0), HTML(value='')))"
      ]
     },
     "metadata": {},
     "output_type": "display_data"
    },
    {
     "name": "stdout",
     "output_type": "stream",
     "text": [
      "\n",
      "Now running PCA ...\n"
     ]
    },
    {
     "data": {
      "image/png": "[encoded data removed]",
      "text/plain": [
       "<Figure size 432x288 with 1 Axes>"
      ]
     },
     "metadata": {
      "needs_background": "light"
     },
     "output_type": "display_data"
    },
    {
     "name": "stdout",
     "output_type": "stream",
     "text": [
      "Now running k-means for deriving the template ...\n",
      "\n",
      "Now deriving the final graph embeddings for the train data ...\n"
     ]
    },
    {
     "data": {
      "application/vnd.jupyter.widget-view+json": {
       "model_id": "84017f4afa3a4033ac0574ffda2503e9",
       "version_major": 2,
       "version_minor": 0
      },
      "text/plain": [
       "HBox(children=(FloatProgress(value=0.0, max=32901.0), HTML(value='')))"
      ]
     },
     "metadata": {},
     "output_type": "display_data"
    },
    {
     "name": "stdout",
     "output_type": "stream",
     "text": [
      "\n",
      "Now deriving the final graph embeddings for the valid data ...\n"
     ]
    },
    {
     "data": {
      "application/vnd.jupyter.widget-view+json": {
       "model_id": "c1a775de37e443bab96a6e9b8b526646",
       "version_major": 2,
       "version_minor": 0
      },
      "text/plain": [
       "HBox(children=(FloatProgress(value=0.0, max=4113.0), HTML(value='')))"
      ]
     },
     "metadata": {},
     "output_type": "display_data"
    },
    {
     "name": "stdout",
     "output_type": "stream",
     "text": [
      "\n",
      "Now deriving the final graph embeddings for the test data ...\n"
     ]
    },
    {
     "data": {
      "application/vnd.jupyter.widget-view+json": {
       "model_id": "25f489ec0fc94e87bcc8c15f43ddcd4a",
       "version_major": 2,
       "version_minor": 0
      },
      "text/plain": [
       "HBox(children=(FloatProgress(value=0.0, max=4113.0), HTML(value='')))"
      ]
     },
     "metadata": {},
     "output_type": "display_data"
    },
    {
     "name": "stdout",
     "output_type": "stream",
     "text": [
      "\n",
      "Now running the classifiers ...\n",
      "experiment 1/10 for RF completed ...\n",
      "experiment 2/10 for RF completed ...\n",
      "experiment 3/10 for RF completed ...\n",
      "experiment 4/10 for RF completed ...\n",
      "experiment 5/10 for RF completed ...\n",
      "experiment 6/10 for RF completed ...\n",
      "experiment 7/10 for RF completed ...\n",
      "experiment 8/10 for RF completed ...\n",
      "experiment 9/10 for RF completed ...\n",
      "experiment 10/10 for RF completed ...\n",
      "\n",
      "\n",
      "Final ROC-AUC(%) results for the ogbg-molhiv dataset with 'final' node embedding and one-hot 13-dim edge embedding\n",
      "+------------+--------------------+---------------------+-------------------+------------------+------------------+\n",
      "| Classifier | # Diffusion Layers | Node Embedding Size |       Train.      |       Val.       |       Test       |\n",
      "+------------+--------------------+---------------------+-------------------+------------------+------------------+\n",
      "|     RF     |         4          |         300         | 100.00 $\\pm$ 0.00 | 80.70 $\\pm$ 2.03 | 77.92 $\\pm$ 1.30 |\n",
      "+------------+--------------------+---------------------+-------------------+------------------+------------------+\n"
     ]
    }
   ],
   "source": [
    "# Run the algorithm\n",
    "\n",
    "for final_node_embedding in final_node_embeddings:\n",
    "    WEGL(dataset=dataset,\n",
    "         num_hidden_layers=num_hidden_layers,\n",
    "         node_embedding_sizes=node_embedding_sizes,\n",
    "         final_node_embedding=final_node_embedding,\n",
    "         num_pca_components=num_pca_components,\n",
    "         num_experiments=num_experiments,\n",
    "         classifiers=classifiers,\n",
    "         random_seed=random_seed,\n",
    "         device=device)"
   ]
  },
  {
   "cell_type": "code",
   "execution_count": null,
   "metadata": {},
   "outputs": [],
   "source": []
  }
 ],
 "metadata": {
  "kernelspec": {
   "display_name": "Python 3",
   "language": "python",
   "name": "python3"
  },
  "language_info": {
   "codemirror_mode": {
    "name": "ipython",
    "version": 3
   },
   "file_extension": ".py",
   "mimetype": "text/x-python",
   "name": "python",
   "nbconvert_exporter": "python",
   "pygments_lexer": "ipython3",
   "version": "3.7.2"
  }
 },
 "nbformat": 4,
 "nbformat_minor": 4
}
